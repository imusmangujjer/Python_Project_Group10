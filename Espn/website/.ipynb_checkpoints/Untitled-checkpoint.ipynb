{
 "cells": [
  {
   "cell_type": "code",
   "execution_count": 1,
   "id": "2855ed25-e3ec-46a8-be2c-1b76deebe9fc",
   "metadata": {
    "tags": []
   },
   "outputs": [
    {
     "name": "stdout",
     "output_type": "stream",
     "text": [
      "Note: you may need to restart the kernel to use updated packages.\n"
     ]
    },
    {
     "name": "stderr",
     "output_type": "stream",
     "text": [
      "ERROR: Could not open requirements file: [Errno 2] No such file or directory: 'requirements.txt'\n"
     ]
    }
   ],
   "source": [
    "pip install -r requirements.txt"
   ]
  },
  {
   "cell_type": "code",
   "execution_count": null,
   "id": "ddf0089a-bcdf-46e0-a908-127930b9f0d9",
   "metadata": {},
   "outputs": [],
   "source": [
    "from flask import Flask, render_template, g, request, flash\n",
    "import sqlite3\n",
    "import pathlib\n",
    "from pathlib import Path\n",
    "import os\n",
    "\n",
    "!pip install -r requirements.txt\n",
    "app = Flask(__name__)\n",
    "app.secret_key = 'manbearpig_MD12'  # Set a secret key for Flask sessions\n",
    "\n",
    "#base_path = pathlib.Path().cwd()\n",
    "\n",
    "base_path = Path(__file__).resolve().parent  # Getting the parent directory of the current script\n",
    "db_folder = base_path.parent / 'Database'\n",
    "db_name = \"cricket_records.db\"\n",
    "file_path = db_folder / db_name\n",
    "\n",
    "# Get the absolute path to the database file\n",
    "database_path = file_path  \n",
    "\n",
    "# Function to get the SQLite connection\n",
    "def get_db():\n",
    "    db = getattr(g, '_database', None)\n",
    "    if db is None:\n",
    "        db = g._database = sqlite3.connect(database_path)\n",
    "    return db\n",
    "\n",
    "# Close the SQLite connection at the end of each request\n",
    "@app.teardown_appcontext\n",
    "def close_db(exception):\n",
    "    db = getattr(g, '_database', None)\n",
    "    if db is not None:\n",
    "        db.close()\n",
    "\n",
    "# Define routes\n",
    "@app.route('/')\n",
    "def index():\n",
    "    return render_template('index.html')\n",
    "\n",
    "@app.route('/about')\n",
    "def about():\n",
    "    return render_template('about.html')\n",
    "\n",
    "@app.route('/data')\n",
    "def data():\n",
    "    conn = get_db()\n",
    "    cursor = conn.cursor()\n",
    "\n",
    "    # Fetch data from the database\n",
    "    cursor.execute('SELECT * FROM batting_record LIMIT 15')\n",
    "    batting_data = cursor.fetchall()\n",
    "    flash(batting_data)\n",
    "\n",
    "    cursor.execute('SELECT * FROM bowling_record LIMIT 15')\n",
    "    bowling_data = cursor.fetchall()\n",
    "    flash(bowling_data)\n",
    "\n",
    "    conn.close()\n",
    "\n",
    "    return render_template('data.html', batting_data=batting_data, bowling_data=bowling_data)\n",
    "\n",
    "if __name__ == '__main__':\n",
    "    app.run(debug=True)"
   ]
  }
 ],
 "metadata": {
  "kernelspec": {
   "display_name": "Python 3 (ipykernel)",
   "language": "python",
   "name": "python3"
  },
  "language_info": {
   "codemirror_mode": {
    "name": "ipython",
    "version": 3
   },
   "file_extension": ".py",
   "mimetype": "text/x-python",
   "name": "python",
   "nbconvert_exporter": "python",
   "pygments_lexer": "ipython3",
   "version": "3.11.4"
  }
 },
 "nbformat": 4,
 "nbformat_minor": 5
}
